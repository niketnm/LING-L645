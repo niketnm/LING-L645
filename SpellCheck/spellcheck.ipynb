{
  "nbformat": 4,
  "nbformat_minor": 0,
  "metadata": {
    "colab": {
      "provenance": []
    },
    "kernelspec": {
      "name": "python3",
      "display_name": "Python 3"
    },
    "language_info": {
      "name": "python"
    }
  },
  "cells": [
    {
      "cell_type": "code",
      "execution_count": null,
      "metadata": {
        "id": "2ny8pZs6k7AK"
      },
      "outputs": [],
      "source": []
    },
    {
      "cell_type": "markdown",
      "source": [
        "## SPELL CHECK"
      ],
      "metadata": {
        "id": "6_Nbqnfok7k1"
      }
    },
    {
      "cell_type": "code",
      "source": [
        "!wget http://www.norvig.com/big.txt\n",
        "!wget http://www.norvig.com/spell-testset2.txt\n",
        "!wget http://www.norvig.com/spell-testset1.txt"
      ],
      "metadata": {
        "colab": {
          "base_uri": "https://localhost:8080/"
        },
        "id": "-DE13YKYk-mi",
        "outputId": "2ed5514c-1c1f-421d-a7f1-c4c479514f43"
      },
      "execution_count": 3,
      "outputs": [
        {
          "output_type": "stream",
          "name": "stdout",
          "text": [
            "--2022-12-13 03:43:18--  http://www.norvig.com/big.txt\n",
            "Resolving www.norvig.com (www.norvig.com)... 158.106.138.13\n",
            "Connecting to www.norvig.com (www.norvig.com)|158.106.138.13|:80... connected.\n",
            "HTTP request sent, awaiting response... 200 OK\n",
            "Length: 6488666 (6.2M) [text/plain]\n",
            "Saving to: ‘big.txt.1’\n",
            "\n",
            "big.txt.1           100%[===================>]   6.19M  16.3MB/s    in 0.4s    \n",
            "\n",
            "2022-12-13 03:43:19 (16.3 MB/s) - ‘big.txt.1’ saved [6488666/6488666]\n",
            "\n",
            "--2022-12-13 03:43:19--  http://www.norvig.com/spell-testset2.txt\n",
            "Resolving www.norvig.com (www.norvig.com)... 158.106.138.13\n",
            "Connecting to www.norvig.com (www.norvig.com)|158.106.138.13|:80... connected.\n",
            "HTTP request sent, awaiting response... 200 OK\n",
            "Length: 7518 (7.3K) [text/plain]\n",
            "Saving to: ‘spell-testset2.txt’\n",
            "\n",
            "spell-testset2.txt  100%[===================>]   7.34K  --.-KB/s    in 0s      \n",
            "\n",
            "2022-12-13 03:43:19 (126 MB/s) - ‘spell-testset2.txt’ saved [7518/7518]\n",
            "\n",
            "--2022-12-13 03:43:19--  http://www.norvig.com/spell-testset1.txt\n",
            "Resolving www.norvig.com (www.norvig.com)... 158.106.138.13\n",
            "Connecting to www.norvig.com (www.norvig.com)|158.106.138.13|:80... connected.\n",
            "HTTP request sent, awaiting response... 200 OK\n",
            "Length: 3780 (3.7K) [text/plain]\n",
            "Saving to: ‘spell-testset1.txt.1’\n",
            "\n",
            "spell-testset1.txt. 100%[===================>]   3.69K  --.-KB/s    in 0s      \n",
            "\n",
            "2022-12-13 03:43:19 (484 MB/s) - ‘spell-testset1.txt.1’ saved [3780/3780]\n",
            "\n"
          ]
        }
      ]
    },
    {
      "cell_type": "code",
      "source": [
        "import re\n",
        "from collections import Counter\n",
        "\n",
        "def words(text): return re.findall(r'\\w+', text.lower())\n",
        "\n",
        "WORDS = Counter(words(open('big.txt').read()))\n",
        "\n",
        "def P(word, N=sum(WORDS.values())): \n",
        "    \"Probability of `word`.\"\n",
        "    return WORDS[word] / N\n",
        "\n",
        "def correction(word): \n",
        "    \"Most probable spelling correction for word.\"\n",
        "    return max(candidates(word), key=P)\n",
        "\n",
        "def candidates(word): \n",
        "    \"Generate possible spelling corrections for word.\"\n",
        "    return (known([word]) or known(edits1(word)) or known(edits2(word)) or [word])\n",
        "\n",
        "def known(words): \n",
        "    \"The subset of `words` that appear in the dictionary of WORDS.\"\n",
        "    return set(w for w in words if w in WORDS)\n",
        "\n",
        "def edits1(word):\n",
        "    \"All edits that are one edit away from `word`.\"\n",
        "    letters    = 'abcdefghijklmnopqrstuvwxyz'\n",
        "    splits     = [(word[:i], word[i:])    for i in range(len(word) + 1)]\n",
        "    deletes    = [L + R[1:]               for L, R in splits if R]\n",
        "    transposes = [L + R[1] + R[0] + R[2:] for L, R in splits if len(R)>1]\n",
        "    replaces   = [L + c + R[1:]           for L, R in splits if R for c in letters]\n",
        "    inserts    = [L + c + R               for L, R in splits for c in letters]\n",
        "    return set(deletes + transposes + replaces + inserts)\n",
        "\n",
        "def edits2(word): \n",
        "    \"All edits that are two edits away from `word`.\"\n",
        "    return (e2 for e1 in edits1(word) for e2 in edits1(e1))"
      ],
      "metadata": {
        "id": "fSy9Tiv_lICm"
      },
      "execution_count": 4,
      "outputs": []
    },
    {
      "cell_type": "code",
      "source": [
        "len(WORDS)"
      ],
      "metadata": {
        "colab": {
          "base_uri": "https://localhost:8080/"
        },
        "id": "B-e1KHsSlg0_",
        "outputId": "e673a626-8411-4342-ce2a-7eb7edba740b"
      },
      "execution_count": 5,
      "outputs": [
        {
          "output_type": "execute_result",
          "data": {
            "text/plain": [
              "32198"
            ]
          },
          "metadata": {},
          "execution_count": 5
        }
      ]
    },
    {
      "cell_type": "code",
      "source": [
        "WORDS.most_common(10)"
      ],
      "metadata": {
        "colab": {
          "base_uri": "https://localhost:8080/"
        },
        "id": "FZJIgEndlkVs",
        "outputId": "210dd2af-6045-4156-8017-42032285c099"
      },
      "execution_count": 6,
      "outputs": [
        {
          "output_type": "execute_result",
          "data": {
            "text/plain": [
              "[('the', 79809),\n",
              " ('of', 40024),\n",
              " ('and', 38312),\n",
              " ('to', 28765),\n",
              " ('in', 22023),\n",
              " ('a', 21124),\n",
              " ('that', 12512),\n",
              " ('he', 12401),\n",
              " ('was', 11410),\n",
              " ('it', 10681)]"
            ]
          },
          "metadata": {},
          "execution_count": 6
        }
      ]
    },
    {
      "cell_type": "code",
      "source": [
        "def spelltest(tests, verbose=False):\n",
        "    \"Run correction(wrong) on all (right, wrong) pairs; report results.\"\n",
        "    import time\n",
        "    start = time.process_time()\n",
        "    good, unknown = 0, 0\n",
        "    n = len(tests)\n",
        "    for right, wrong in tests:\n",
        "        w = correction(wrong)\n",
        "        good += (w == right)\n",
        "        if w != right:\n",
        "            unknown += (right not in WORDS)\n",
        "            if verbose:\n",
        "                print('correction({}) => {} ({}); expected {} ({})'\n",
        "                      .format(wrong, w, WORDS[w], right, WORDS[right]))\n",
        "    dt = time.process_time() - start\n",
        "    print('{:.0%} of {} correct ({:.0%} unknown) at {:.0f} words per second '\n",
        "          .format(good / n, n, unknown / n, n / dt))\n",
        "    \n",
        "def Testset(lines):\n",
        "    \"Parse 'right: wrong1 wrong2' lines into [('right', 'wrong1'), ('right', 'wrong2')] pairs.\"\n",
        "    return [(right, wrong)\n",
        "            for (right, wrongs) in (line.split(':') for line in lines)\n",
        "            for wrong in wrongs.split()]"
      ],
      "metadata": {
        "id": "sVXL3uVwlrGw"
      },
      "execution_count": 12,
      "outputs": []
    },
    {
      "cell_type": "code",
      "source": [
        "\n",
        "spelltest(Testset(open('spell-testset1.txt')))\n",
        "spelltest(Testset(open('spell-testset2.txt')))"
      ],
      "metadata": {
        "colab": {
          "base_uri": "https://localhost:8080/"
        },
        "id": "92qvsQF3lsOJ",
        "outputId": "b09dc00e-9b18-4591-8687-0f03acf9e244"
      },
      "execution_count": 13,
      "outputs": [
        {
          "output_type": "stream",
          "name": "stdout",
          "text": [
            "75% of 270 correct (6% unknown) at 36 words per second \n",
            "68% of 400 correct (11% unknown) at 30 words per second \n"
          ]
        }
      ]
    },
    {
      "cell_type": "code",
      "source": [
        "test = \"wrogn spellin\"\n",
        "words(test)\n"
      ],
      "metadata": {
        "colab": {
          "base_uri": "https://localhost:8080/"
        },
        "id": "AYgCWtlgl_5R",
        "outputId": "ebc6e7c0-6d3d-43bb-fb7c-c138c19ab94e"
      },
      "execution_count": 14,
      "outputs": [
        {
          "output_type": "execute_result",
          "data": {
            "text/plain": [
              "['wrogn', 'spellin']"
            ]
          },
          "metadata": {},
          "execution_count": 14
        }
      ]
    },
    {
      "cell_type": "code",
      "source": [
        "for w in words(test):\n",
        "    print(candidates(w))"
      ],
      "metadata": {
        "colab": {
          "base_uri": "https://localhost:8080/"
        },
        "id": "GKAZK0XZmLQB",
        "outputId": "35a32b50-52cb-4213-86b8-4b0a16a663cb"
      },
      "execution_count": 16,
      "outputs": [
        {
          "output_type": "stream",
          "name": "stdout",
          "text": [
            "{'wrong'}\n",
            "{'spelling'}\n"
          ]
        }
      ]
    },
    {
      "cell_type": "code",
      "source": [
        "for w in words(test):\n",
        "    print(correction(w))"
      ],
      "metadata": {
        "colab": {
          "base_uri": "https://localhost:8080/"
        },
        "id": "GlxAfgrCmUBc",
        "outputId": "bd7bc4d1-3865-4e1a-c441-d376a6488ff4"
      },
      "execution_count": 17,
      "outputs": [
        {
          "output_type": "stream",
          "name": "stdout",
          "text": [
            "wrong\n",
            "spelling\n"
          ]
        }
      ]
    }
  ]
}