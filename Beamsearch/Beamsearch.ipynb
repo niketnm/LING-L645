{
 "cells": [
  {
   "cell_type": "code",
   "execution_count": 71,
   "id": "20473aeb",
   "metadata": {},
   "outputs": [],
   "source": [
    "from math import log\n",
    "import numpy as np\n",
    "import json\n",
    "\n",
    "# beam search\n",
    "def beam_search_decoder(data, k):\n",
    "    sequences = [[list(), 0.0]]\n",
    "    # walk over each step in sequence\n",
    "\n",
    "    max_T, max_A = data.shape\n",
    "\n",
    "    # Loop over time\n",
    "    for t in range(max_T):\n",
    "        all_candidates = list()\n",
    "        # expand each current candidate\n",
    "        for i in range(len(sequences)):\n",
    "            seq, score = sequences[i]\n",
    "            # Loop over possible alphabet outputs\n",
    "            for c in range(max_A-1):\n",
    "                candidate = [seq + [c], score - log(data[t, c])]\n",
    "                all_candidates.append(candidate)\n",
    "        # order all candidates by score\n",
    "        ordered = sorted(all_candidates, key=lambda tup:tup[1])\n",
    "        # select k best\n",
    "        sequences = ordered[:k]\n",
    "    return sequences"
   ]
  },
  {
   "cell_type": "code",
   "execution_count": 72,
   "id": "71c08c63",
   "metadata": {},
   "outputs": [
    {
     "name": "stderr",
     "output_type": "stream",
     "text": [
      "  % Total    % Received % Xferd  Average Speed   Time    Time     Time  Current\n",
      "                                 Dload  Upload   Total   Spent    Left  Speed\n",
      "\n",
      "  0     0    0     0    0     0      0      0 --:--:-- --:--:-- --:--:--     0\n",
      "100 38733  100 38733    0     0   265k      0 --:--:-- --:--:-- --:--:--  266k\n"
     ]
    }
   ],
   "source": [
    "!curl \"https://cl.indiana.edu/~ftyers/courses/2022/Autumn/L-645/practicals/beamsearch/output.json\" > output.json"
   ]
  },
  {
   "cell_type": "markdown",
   "id": "ce20a20e",
   "metadata": {},
   "source": [
    "## Exercise 1\n",
    "\n",
    "Adapt the beamsearch code above to decode the output of the acoustic model in the output.json file.\n",
    "\n",
    "The output should collapse sequences of the same character, for example: the sequence f f i i i n d d should be output as f i n d."
   ]
  },
  {
   "cell_type": "code",
   "execution_count": 73,
   "id": "8ad21598",
   "metadata": {},
   "outputs": [],
   "source": [
    "fp = open('output.json')\n",
    "data = json.load(fp)"
   ]
  },
  {
   "cell_type": "code",
   "execution_count": 74,
   "id": "91706816",
   "metadata": {},
   "outputs": [
    {
     "data": {
      "text/plain": [
       "dict"
      ]
     },
     "execution_count": 74,
     "metadata": {},
     "output_type": "execute_result"
    }
   ],
   "source": [
    "type(data)"
   ]
  },
  {
   "cell_type": "code",
   "execution_count": 75,
   "id": "bff663e3",
   "metadata": {},
   "outputs": [
    {
     "data": {
      "text/plain": [
       "dict_keys(['alphabet', 'logits'])"
      ]
     },
     "execution_count": 75,
     "metadata": {},
     "output_type": "execute_result"
    }
   ],
   "source": [
    "data.keys()"
   ]
  },
  {
   "cell_type": "code",
   "execution_count": 76,
   "id": "af5f825a",
   "metadata": {},
   "outputs": [],
   "source": [
    "logits = np.array(data['logits'])\n",
    "beam_width = 3\n",
    "beam = beam_search_decoder(logits, beam_width)\n"
   ]
  },
  {
   "cell_type": "code",
   "execution_count": 77,
   "id": "e4dee597",
   "metadata": {},
   "outputs": [
    {
     "data": {
      "text/plain": [
       "[23,\n",
       " 23,\n",
       " 5,\n",
       " 0,\n",
       " 0,\n",
       " 0,\n",
       " 0,\n",
       " 13,\n",
       " 21,\n",
       " 19,\n",
       " 19,\n",
       " 20,\n",
       " 20,\n",
       " 19,\n",
       " 15,\n",
       " 9,\n",
       " 19,\n",
       " 0,\n",
       " 0,\n",
       " 0,\n",
       " 0,\n",
       " 6,\n",
       " 6,\n",
       " 9,\n",
       " 9,\n",
       " 9,\n",
       " 14,\n",
       " 4,\n",
       " 4,\n",
       " 0,\n",
       " 0,\n",
       " 0,\n",
       " 0,\n",
       " 0,\n",
       " 0,\n",
       " 1,\n",
       " 0,\n",
       " 0,\n",
       " 0,\n",
       " 14,\n",
       " 14,\n",
       " 5,\n",
       " 5,\n",
       " 23,\n",
       " 23,\n",
       " 15,\n",
       " 15,\n",
       " 15,\n",
       " 15,\n",
       " 15,\n",
       " 19,\n",
       " 5,\n",
       " 0,\n",
       " 0,\n",
       " 0,\n",
       " 20,\n",
       " 8,\n",
       " 8,\n",
       " 8,\n",
       " 15,\n",
       " 12,\n",
       " 13,\n",
       " 5,\n",
       " 5,\n",
       " 0,\n",
       " 0,\n",
       " 0,\n",
       " 0,\n",
       " 0,\n",
       " 0,\n",
       " 9,\n",
       " 14,\n",
       " 0,\n",
       " 0,\n",
       " 0,\n",
       " 0,\n",
       " 0,\n",
       " 0,\n",
       " 20,\n",
       " 8,\n",
       " 5,\n",
       " 0,\n",
       " 0,\n",
       " 0,\n",
       " 0,\n",
       " 19,\n",
       " 19,\n",
       " 19,\n",
       " 19,\n",
       " 19,\n",
       " 19,\n",
       " 20,\n",
       " 20,\n",
       " 20,\n",
       " 20,\n",
       " 19,\n",
       " 19,\n",
       " 19,\n",
       " 1,\n",
       " 18,\n",
       " 18,\n",
       " 18,\n",
       " 18,\n",
       " 18,\n",
       " 0,\n",
       " 15,\n",
       " 19]"
      ]
     },
     "execution_count": 77,
     "metadata": {},
     "output_type": "execute_result"
    }
   ],
   "source": [
    "beam[-1][0]"
   ]
  },
  {
   "cell_type": "code",
   "execution_count": 78,
   "id": "40900277",
   "metadata": {},
   "outputs": [],
   "source": [
    "output = []"
   ]
  },
  {
   "cell_type": "code",
   "execution_count": 79,
   "id": "b173821c",
   "metadata": {},
   "outputs": [],
   "source": [
    "for i in result[-1][0]:\n",
    "    if len(output) > 0 and data['alphabet'][i] == output[-1]:\n",
    "        continue\n",
    "    else:\n",
    "        output.append(data['alphabet'][i])\n",
    "output = \"\".join(output)\n"
   ]
  },
  {
   "cell_type": "code",
   "execution_count": 80,
   "id": "173220fd",
   "metadata": {},
   "outputs": [
    {
     "data": {
      "text/plain": [
       "'dbd d d cb'"
      ]
     },
     "execution_count": 80,
     "metadata": {},
     "output_type": "execute_result"
    }
   ],
   "source": [
    "output"
   ]
  },
  {
   "cell_type": "markdown",
   "id": "bed2bcc9",
   "metadata": {},
   "source": [
    "## Exercise 2\n",
    "Visualise the output of the acoustic model, create a heatmap where darker colours are more probable."
   ]
  },
  {
   "cell_type": "code",
   "execution_count": 81,
   "id": "66365bcd",
   "metadata": {
    "scrolled": true
   },
   "outputs": [
    {
     "data": {
      "image/png": "[encoded data removed]",
      "text/plain": [
       "<Figure size 1800x1800 with 1 Axes>"
      ]
     },
     "metadata": {
      "needs_background": "light"
     },
     "output_type": "display_data"
    }
   ],
   "source": [
    "import matplotlib.pyplot as plt\n",
    "plt.figure(figsize=(25,25))\n",
    "plt.imshow( logits , cmap = 'hot' , interpolation = 'nearest' )\n",
    "plt.show()\n",
    "     "
   ]
  },
  {
   "cell_type": "markdown",
   "id": "15807f2d",
   "metadata": {},
   "source": [
    "Create a heatmap where darker colours are more probable."
   ]
  },
  {
   "cell_type": "code",
   "execution_count": 82,
   "id": "5d61f146",
   "metadata": {},
   "outputs": [
    {
     "data": {
      "text/plain": [
       "<AxesSubplot:>"
      ]
     },
     "execution_count": 82,
     "metadata": {},
     "output_type": "execute_result"
    },
    {
     "data": {
      "image/png": "[encoded data removed]",
      "text/plain": [
       "<Figure size 432x288 with 2 Axes>"
      ]
     },
     "metadata": {
      "needs_background": "light"
     },
     "output_type": "display_data"
    }
   ],
   "source": [
    "import seaborn as sns\n",
    "\n",
    "# Load the data for the heatmap\n",
    "data = logits\n",
    "\n",
    "# Create the heatmap\n",
    "sns.heatmap(data, cmap=\"Reds\")"
   ]
  },
  {
   "cell_type": "markdown",
   "id": "0b92364b",
   "metadata": {},
   "source": [
    "## Exercise 3"
   ]
  },
  {
   "cell_type": "code",
   "execution_count": 83,
   "id": "6cbc5036",
   "metadata": {},
   "outputs": [],
   "source": [
    "\"\"\"\n",
    "Author: Awni Hannun\n",
    "\n",
    "This is an example CTC decoder written in Python. The code is\n",
    "intended to be a simple example and is not designed to be\n",
    "especially efficient.\n",
    "\n",
    "The algorithm is a prefix beam search for a model trained\n",
    "with the CTC loss function.\n",
    "\n",
    "For more details checkout either of these references:\n",
    "  https://distill.pub/2017/ctc/#inference\n",
    "  https://arxiv.org/abs/1408.2873\n",
    "\n",
    "\"\"\"\n",
    "\n",
    "import numpy as np\n",
    "import math\n",
    "import collections\n",
    "\n",
    "NEG_INF = -float(\"inf\")\n",
    "\n",
    "def make_new_beam():\n",
    "  fn = lambda : (NEG_INF, NEG_INF)\n",
    "  return collections.defaultdict(fn)\n",
    "\n",
    "def logsumexp(*args):\n",
    "  \"\"\"\n",
    "  Stable log sum exp.\n",
    "  \"\"\"\n",
    "  if all(a == NEG_INF for a in args):\n",
    "      return NEG_INF\n",
    "  a_max = max(args)\n",
    "  lsp = math.log(sum(math.exp(a - a_max)\n",
    "                      for a in args))\n",
    "  return a_max + lsp\n",
    "\n",
    "def decode(probs, beam_size=100, blank=0):\n",
    "  \"\"\"\n",
    "  Performs inference for the given output probabilities.\n",
    "\n",
    "  Arguments:\n",
    "      probs: The output probabilities (e.g. post-softmax) for each\n",
    "        time step. Should be an array of shape (time x output dim).\n",
    "      beam_size (int): Size of the beam to use during inference.\n",
    "      blank (int): Index of the CTC blank label.\n",
    "\n",
    "  Returns the output label sequence and the corresponding negative\n",
    "  log-likelihood estimated by the decoder.\n",
    "  \"\"\"\n",
    "  T, S = probs.shape\n",
    "  probs = np.log(probs)\n",
    "\n",
    "  # Elements in the beam are (prefix, (p_blank, p_no_blank))\n",
    "  # Initialize the beam with the empty sequence, a probability of\n",
    "  # 1 for ending in blank and zero for ending in non-blank\n",
    "  # (in log space).\n",
    "  beam = [(tuple(), (0.0, NEG_INF))]\n",
    "\n",
    "  for t in range(T): # Loop over time\n",
    "\n",
    "    # A default dictionary to store the next step candidates.\n",
    "    next_beam = make_new_beam()\n",
    "\n",
    "    for s in range(S): # Loop over vocab\n",
    "      p = probs[t, s]\n",
    "\n",
    "      # The variables p_b and p_nb are respectively the\n",
    "      # probabilities for the prefix given that it ends in a\n",
    "      # blank and does not end in a blank at this time step.\n",
    "      for prefix, (p_b, p_nb) in beam: # Loop over beam\n",
    "\n",
    "        # If we propose a blank the prefix doesn't change.\n",
    "        # Only the probability of ending in blank gets updated.\n",
    "        if s == blank:\n",
    "          n_p_b, n_p_nb = next_beam[prefix]\n",
    "          n_p_b = logsumexp(n_p_b, p_b + p, p_nb + p)\n",
    "          next_beam[prefix] = (n_p_b, n_p_nb)\n",
    "          continue\n",
    "\n",
    "        # Extend the prefix by the new character s and add it to\n",
    "        # the beam. Only the probability of not ending in blank\n",
    "        # gets updated.\n",
    "        end_t = prefix[-1] if prefix else None\n",
    "        n_prefix = prefix + (s,)\n",
    "        n_p_b, n_p_nb = next_beam[n_prefix]\n",
    "        if s != end_t:\n",
    "          n_p_nb = logsumexp(n_p_nb, p_b + p, p_nb + p)\n",
    "        else:\n",
    "          # We don't include the previous probability of not ending\n",
    "          # in blank (p_nb) if s is repeated at the end. The CTC\n",
    "          # algorithm merges characters not separated by a blank.\n",
    "          n_p_nb = logsumexp(n_p_nb, p_b + p)\n",
    "          \n",
    "        # *NB* this would be a good place to include an LM score.\n",
    "        next_beam[n_prefix] = (n_p_b, n_p_nb)\n",
    "\n",
    "        # If s is repeated at the end we also update the unchanged\n",
    "        # prefix. This is the merging case.\n",
    "        if s == end_t:\n",
    "          n_p_b, n_p_nb = next_beam[prefix]\n",
    "          n_p_nb = logsumexp(n_p_nb, p_nb + p)\n",
    "          next_beam[prefix] = (n_p_b, n_p_nb)\n",
    "\n",
    "    # Sort and trim the beam before moving on to the\n",
    "    # next time-step.\n",
    "    beam = sorted(next_beam.items(),\n",
    "            key=lambda x : logsumexp(*x[1]),\n",
    "            reverse=True)\n",
    "    beam = beam[:beam_size]\n",
    "\n",
    "  best = beam[0]\n",
    "  return best[0], -logsumexp(*best[1])"
   ]
  },
  {
   "cell_type": "code",
   "execution_count": 87,
   "id": "ea089863",
   "metadata": {
    "scrolled": true
   },
   "outputs": [
    {
     "ename": "TypeError",
     "evalue": "'numpy.float64' object is not callable",
     "output_type": "error",
     "traceback": [
      "\u001b[1;31m---------------------------------------------------------------------------\u001b[0m",
      "\u001b[1;31mTypeError\u001b[0m                                 Traceback (most recent call last)",
      "\u001b[1;32m~\\AppData\\Local\\Temp/ipykernel_15544/1221573481.py\u001b[0m in \u001b[0;36m<module>\u001b[1;34m\u001b[0m\n\u001b[1;32m----> 1\u001b[1;33m \u001b[0mseq\u001b[0m\u001b[1;33m,\u001b[0m \u001b[0mlogsum\u001b[0m \u001b[1;33m=\u001b[0m \u001b[0mdecode\u001b[0m\u001b[1;33m(\u001b[0m\u001b[0mlogits\u001b[0m\u001b[1;33m,\u001b[0m \u001b[1;36m3\u001b[0m\u001b[1;33m,\u001b[0m \u001b[1;36m0\u001b[0m\u001b[1;33m)\u001b[0m\u001b[1;33m\u001b[0m\u001b[1;33m\u001b[0m\u001b[0m\n\u001b[0m",
      "\u001b[1;32m~\\AppData\\Local\\Temp/ipykernel_15544/2438756159.py\u001b[0m in \u001b[0;36mdecode\u001b[1;34m(probs, beam_size, blank)\u001b[0m\n\u001b[0;32m     75\u001b[0m         \u001b[1;32mif\u001b[0m \u001b[0ms\u001b[0m \u001b[1;33m==\u001b[0m \u001b[0mblank\u001b[0m\u001b[1;33m:\u001b[0m\u001b[1;33m\u001b[0m\u001b[1;33m\u001b[0m\u001b[0m\n\u001b[0;32m     76\u001b[0m           \u001b[0mn_p_b\u001b[0m\u001b[1;33m,\u001b[0m \u001b[0mn_p_nb\u001b[0m \u001b[1;33m=\u001b[0m \u001b[0mnext_beam\u001b[0m\u001b[1;33m[\u001b[0m\u001b[0mprefix\u001b[0m\u001b[1;33m]\u001b[0m\u001b[1;33m\u001b[0m\u001b[1;33m\u001b[0m\u001b[0m\n\u001b[1;32m---> 77\u001b[1;33m           \u001b[0mn_p_b\u001b[0m \u001b[1;33m=\u001b[0m \u001b[0mlogsumexp\u001b[0m\u001b[1;33m(\u001b[0m\u001b[0mn_p_b\u001b[0m\u001b[1;33m,\u001b[0m \u001b[0mp_b\u001b[0m \u001b[1;33m+\u001b[0m \u001b[0mp\u001b[0m\u001b[1;33m,\u001b[0m \u001b[0mp_nb\u001b[0m \u001b[1;33m+\u001b[0m \u001b[0mp\u001b[0m\u001b[1;33m)\u001b[0m\u001b[1;33m\u001b[0m\u001b[1;33m\u001b[0m\u001b[0m\n\u001b[0m\u001b[0;32m     78\u001b[0m           \u001b[0mnext_beam\u001b[0m\u001b[1;33m[\u001b[0m\u001b[0mprefix\u001b[0m\u001b[1;33m]\u001b[0m \u001b[1;33m=\u001b[0m \u001b[1;33m(\u001b[0m\u001b[0mn_p_b\u001b[0m\u001b[1;33m,\u001b[0m \u001b[0mn_p_nb\u001b[0m\u001b[1;33m)\u001b[0m\u001b[1;33m\u001b[0m\u001b[1;33m\u001b[0m\u001b[0m\n\u001b[0;32m     79\u001b[0m           \u001b[1;32mcontinue\u001b[0m\u001b[1;33m\u001b[0m\u001b[1;33m\u001b[0m\u001b[0m\n",
      "\u001b[1;32m~\\AppData\\Local\\Temp/ipykernel_15544/2438756159.py\u001b[0m in \u001b[0;36mlogsumexp\u001b[1;34m(*args)\u001b[0m\n\u001b[0;32m     32\u001b[0m       \u001b[1;32mreturn\u001b[0m \u001b[0mNEG_INF\u001b[0m\u001b[1;33m\u001b[0m\u001b[1;33m\u001b[0m\u001b[0m\n\u001b[0;32m     33\u001b[0m   \u001b[0ma_max\u001b[0m \u001b[1;33m=\u001b[0m \u001b[0mmax\u001b[0m\u001b[1;33m(\u001b[0m\u001b[0margs\u001b[0m\u001b[1;33m)\u001b[0m\u001b[1;33m\u001b[0m\u001b[1;33m\u001b[0m\u001b[0m\n\u001b[1;32m---> 34\u001b[1;33m   lsp = math.log(sum(math.exp(a - a_max)\n\u001b[0m\u001b[0;32m     35\u001b[0m                       for a in args))\n\u001b[0;32m     36\u001b[0m   \u001b[1;32mreturn\u001b[0m \u001b[0ma_max\u001b[0m \u001b[1;33m+\u001b[0m \u001b[0mlsp\u001b[0m\u001b[1;33m\u001b[0m\u001b[1;33m\u001b[0m\u001b[0m\n",
      "\u001b[1;31mTypeError\u001b[0m: 'numpy.float64' object is not callable"
     ]
    }
   ],
   "source": [
    "seq, logsum = decode(logits, 3, 0)"
   ]
  },
  {
   "cell_type": "code",
   "execution_count": 88,
   "id": "0cfca549",
   "metadata": {},
   "outputs": [],
   "source": [
    "ctc = []\n",
    "f = open('output.json')\n",
    "data = json.load(f)\n",
    "     \n"
   ]
  },
  {
   "cell_type": "code",
   "execution_count": 89,
   "id": "03be71ef",
   "metadata": {},
   "outputs": [],
   "source": [
    "for i in seq:\n",
    "    ctc.append(data[\"alphabet\"][i])"
   ]
  },
  {
   "cell_type": "code",
   "execution_count": 90,
   "id": "e53938cd",
   "metadata": {},
   "outputs": [
    {
     "name": "stdout",
     "output_type": "stream",
     "text": [
      "wemustsisfindanewostholmeinthestsarrs\n"
     ]
    }
   ],
   "source": [
    "print(\"\".join(ctc))"
   ]
  },
  {
   "cell_type": "code",
   "execution_count": null,
   "id": "f44a356c",
   "metadata": {},
   "outputs": [],
   "source": []
  }
 ],
 "metadata": {
  "kernelspec": {
   "display_name": "Python 3 (ipykernel)",
   "language": "python",
   "name": "python3"
  },
  "language_info": {
   "codemirror_mode": {
    "name": "ipython",
    "version": 3
   },
   "file_extension": ".py",
   "mimetype": "text/x-python",
   "name": "python",
   "nbconvert_exporter": "python",
   "pygments_lexer": "ipython3",
   "version": "3.9.7"
  }
 },
 "nbformat": 4,
 "nbformat_minor": 5
}
